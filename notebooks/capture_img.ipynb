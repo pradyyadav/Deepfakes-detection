{
 "cells": [
  {
   "cell_type": "markdown",
   "metadata": {
    "id": "K3RPEkmlPMJE"
   },
   "source": [
    "Pradyumna Yadav (191010228)\n",
    "Priyansh Sharma (191010230)\n",
    "Sakshi Verma (191010239)"
   ]
  },
  {
   "cell_type": "markdown",
   "metadata": {
    "id": "xmhu6fPSH_6G"
   },
   "source": [
    "# Mounting drive"
   ]
  },
  {
   "cell_type": "code",
   "execution_count": 1,
   "metadata": {
    "colab": {
     "base_uri": "https://localhost:8080/"
    },
    "id": "VJo5_5mUFxMK",
    "outputId": "d6eb99b0-4428-4fd7-c5ba-0bf91ce19a45"
   },
   "outputs": [
    {
     "name": "stdout",
     "output_type": "stream",
     "text": [
      "Mounted at /content/gdrive\n"
     ]
    }
   ],
   "source": [
    "from google.colab import drive\n",
    "drive.mount('/content/gdrive')"
   ]
  },
  {
   "cell_type": "markdown",
   "metadata": {
    "id": "Ov0jZXgIIJjF"
   },
   "source": [
    "# Importing Libraries"
   ]
  },
  {
   "cell_type": "code",
   "execution_count": 1,
   "metadata": {
    "id": "4TtK-CXPybSd"
   },
   "outputs": [],
   "source": [
    "import dlib\n",
    "import cv2\n",
    "import os\n",
    "import re\n",
    "import json\n",
    "from pylab import *\n",
    "from PIL import Image, ImageChops, ImageEnhance"
   ]
  },
  {
   "cell_type": "code",
   "execution_count": 2,
   "metadata": {
    "id": "0_pPeC1-ybSg"
   },
   "outputs": [],
   "source": [
    "def create_folder(path):\n",
    "    \"\"\"\n",
    "    Creates folder\n",
    "\n",
    "    Makes a new directory as path\n",
    "\n",
    "    \n",
    "    \"\"\"\n",
    "    if os.path.exists(path):\n",
    "        print(\"{} already exists. Passing!\".format(path))\n",
    "        pass\n",
    "    else:\n",
    "        os.makedirs(path)\n",
    "        print(\"{} created!\".format(path))"
   ]
  },
  {
   "cell_type": "code",
   "execution_count": 3,
   "metadata": {
    "colab": {
     "base_uri": "https://localhost:8080/"
    },
    "id": "2sclKU2XybSi",
    "outputId": "e1127c84-7022-431e-c087-e41abc774967"
   },
   "outputs": [
    {
     "name": "stdout",
     "output_type": "stream",
     "text": [
      "dataset already exists. Passing!\n",
      "dataset/real already exists. Passing!\n",
      "dataset/fake already exists. Passing!\n"
     ]
    }
   ],
   "source": [
    "train_frame_folder = 'train_sample_videos'\n",
    "dataset = 'dataset'\n",
    "real = 'dataset/real'\n",
    "fake = 'dataset/fake'\n",
    "create_folder(dataset)\n",
    "create_folder(real)\n",
    "create_folder(fake)"
   ]
  },
  {
   "cell_type": "markdown",
   "metadata": {
    "id": "5yYhExZiIPlB"
   },
   "source": [
    "# Forming videos to frames"
   ]
  },
  {
   "cell_type": "code",
   "execution_count": 4,
   "metadata": {
    "colab": {
     "base_uri": "https://localhost:8080/",
     "height": 237
    },
    "id": "Kk5IKbY2ybSj",
    "outputId": "a7f82fde-1c11-40b0-f33e-349beeade36d"
   },
   "outputs": [],
   "source": [
    "with open(os.path.join(train_frame_folder, 'metadata.json'), 'r') as file:\n",
    "    data = json.load(file)\n",
    "list_of_train_data = [f for f in os.listdir(train_frame_folder) if f.endswith('.mp4')]\n",
    "detector = dlib.get_frontal_face_detector()\n",
    "for vid in list_of_train_data:\n",
    "    count = 0\n",
    "    cap = cv2.VideoCapture(os.path.join(train_frame_folder, vid))\n",
    "    frameRate = cap.get(5)\n",
    "    while cap.isOpened():\n",
    "        frameId = cap.get(1)\n",
    "        ret, frame = cap.read()\n",
    "        if ret != True:\n",
    "            break\n",
    "        if frameId % ((int(frameRate)+1)*1) == 0:\n",
    "            face_rects, scores, idx = detector.run(frame, 0)\n",
    "            for i, d in enumerate(face_rects):\n",
    "                x1 = d.left()\n",
    "                y1 = d.top()\n",
    "                x2 = d.right()\n",
    "                y2 = d.bottom()\n",
    "                crop_img = frame[y1:y2, x1:x2]\n",
    "                if data[vid]['label'] == 'REAL':\n",
    "                    cv2.imwrite('dataset/real/'+vid.split('.')[0]+'_'+str(count)+'.png', cv2.resize(crop_img, (128, 128)))\n",
    "                elif data[vid]['label'] == 'FAKE':\n",
    "                    cv2.imwrite('dataset/fake/'+vid.split('.')[0]+'_'+str(count)+'.png', cv2.resize(crop_img, (128, 128)))\n",
    "                count+=1"
   ]
  }
 ],
 "metadata": {
  "colab": {
   "collapsed_sections": [],
   "name": "capture_img.ipynb",
   "provenance": []
  },
  "kernelspec": {
   "display_name": "Python 3",
   "language": "python",
   "name": "python3"
  },
  "language_info": {
   "codemirror_mode": {
    "name": "ipython",
    "version": 3
   },
   "file_extension": ".py",
   "mimetype": "text/x-python",
   "name": "python",
   "nbconvert_exporter": "python",
   "pygments_lexer": "ipython3",
   "version": "3.8.0"
  }
 },
 "nbformat": 4,
 "nbformat_minor": 1
}
